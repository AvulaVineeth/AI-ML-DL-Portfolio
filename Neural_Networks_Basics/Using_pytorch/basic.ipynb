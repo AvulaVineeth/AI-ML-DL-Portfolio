{
 "cells": [
  {
   "cell_type": "code",
   "execution_count": 2,
   "metadata": {},
   "outputs": [
    {
     "name": "stdout",
     "output_type": "stream",
     "text": [
      "Array type: <class 'numpy.ndarray'>\n",
      "Array shape: (2, 3)\n",
      "[[1 2 3]\n",
      " [4 5 6]]\n"
     ]
    }
   ],
   "source": [
    "import numpy as np\n",
    "\n",
    "array = [[1,2,3],[4,5,6]]\n",
    "np_array = np.array(array)\n",
    "print(\"Array type: {}\".format(type(np_array)))\n",
    "print(\"Array shape: {}\".format(np.shape(np_array)))\n",
    "print(np_array)"
   ]
  },
  {
   "cell_type": "code",
   "execution_count": 4,
   "metadata": {},
   "outputs": [
    {
     "name": "stdout",
     "output_type": "stream",
     "text": [
      "Array type: <built-in method type of Tensor object at 0x000001FF87437950>\n",
      "Array shape: torch.Size([2, 3])\n",
      "tensor([[1., 2., 3.],\n",
      "        [4., 5., 6.]])\n"
     ]
    }
   ],
   "source": [
    "import torch\n",
    "tensor = torch.Tensor(array)\n",
    "print(\"Array type: {}\".format(tensor.type))\n",
    "print(\"Array shape: {}\".format(tensor.shape))\n",
    "print(tensor)"
   ]
  },
  {
   "cell_type": "code",
   "execution_count": 8,
   "metadata": {},
   "outputs": [
    {
     "name": "stdout",
     "output_type": "stream",
     "text": [
      "Numpy [[1. 1. 1.]\n",
      " [1. 1. 1.]]\n",
      "\n",
      "tensor([[1., 1., 1.],\n",
      "        [1., 1., 1.]])\n"
     ]
    }
   ],
   "source": [
    "print(\"Numpy {}\\n\".format(np.ones((2,3))))\n",
    "print(torch.ones(2,3))"
   ]
  },
  {
   "cell_type": "code",
   "execution_count": 12,
   "metadata": {},
   "outputs": [
    {
     "name": "stdout",
     "output_type": "stream",
     "text": [
      "Numpy [[0.88298376 0.42326047 0.41229359]\n",
      " [0.78314516 0.39356354 0.2658303 ]]\n",
      "\n",
      "tensor([[0.9180, 0.8215, 0.4707],\n",
      "        [0.8505, 0.7009, 0.5331]])\n"
     ]
    }
   ],
   "source": [
    "print(\"Numpy {}\\n\".format(np.random.rand(2,3)))\n",
    "print(torch.rand(2,3))"
   ]
  },
  {
   "cell_type": "code",
   "execution_count": 13,
   "metadata": {},
   "outputs": [
    {
     "name": "stdout",
     "output_type": "stream",
     "text": [
      "<class 'numpy.ndarray'> [[0.05847128 0.9509499  0.30015439]\n",
      " [0.37369053 0.24287266 0.15510412]]\n",
      "\n",
      "tensor([[0.0585, 0.9509, 0.3002],\n",
      "        [0.3737, 0.2429, 0.1551]], dtype=torch.float64)\n",
      "\n",
      "<class 'numpy.ndarray'> [[0.05847128 0.9509499  0.30015439]\n",
      " [0.37369053 0.24287266 0.15510412]]\n",
      "\n"
     ]
    }
   ],
   "source": [
    "array = np.random.rand(2,3)\n",
    "print(\"{} {}\\n\".format(type(array), array))\n",
    "from_numpy_to_tensor = torch.from_numpy(array)\n",
    "tensor = from_numpy_to_tensor\n",
    "print(\"{}\\n\".format(tensor))\n",
    "from_tensor_to_numpy = tensor.numpy()\n",
    "print(\"{} {}\\n\".format(type(from_tensor_to_numpy), from_tensor_to_numpy))"
   ]
  },
  {
   "cell_type": "code",
   "execution_count": null,
   "metadata": {},
   "outputs": [],
   "source": []
  }
 ],
 "metadata": {
  "kernelspec": {
   "display_name": "Python 3",
   "language": "python",
   "name": "python3"
  },
  "language_info": {
   "codemirror_mode": {
    "name": "ipython",
    "version": 3
   },
   "file_extension": ".py",
   "mimetype": "text/x-python",
   "name": "python",
   "nbconvert_exporter": "python",
   "pygments_lexer": "ipython3",
   "version": "3.11.0"
  }
 },
 "nbformat": 4,
 "nbformat_minor": 2
}
